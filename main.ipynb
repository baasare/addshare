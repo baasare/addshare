{
 "cells": [
  {
   "cell_type": "code",
   "execution_count": 1,
   "outputs": [],
   "source": [
    "import json\n",
    "import numpy as np\n",
    "import tensorflow as tf\n",
    "import tensorflow.python.keras.backend as K\n",
    "\n",
    "from cryptography.hazmat.backends import default_backend\n",
    "from cryptography.hazmat.primitives import hashes\n",
    "from cryptography.hazmat.primitives.asymmetric import ec\n",
    "from cryptography.hazmat.primitives.kdf.hkdf import HKDF\n",
    "from cryptography.hazmat.primitives.ciphers.aead import AESGCM\n",
    "\n",
    "from helpers.utils import get_public_key, get_private_key, NumpyEncoder, NumpyDecoder"
   ],
   "metadata": {
    "collapsed": false,
    "ExecuteTime": {
     "end_time": "2024-01-10T12:22:30.502374Z",
     "start_time": "2024-01-10T12:22:27.553016Z"
    }
   },
   "id": "694361724734c663"
  },
  {
   "cell_type": "code",
   "execution_count": 2,
   "outputs": [
    {
     "name": "stdout",
     "output_type": "stream",
     "text": [
      "Ciphertext: b'6\\x99 \\xfb=\\xea\\xf5\\x85\"(@\\xbf\\xff\\xdc\\x98A\\xf1\\xddc\\xf2\\xa6\\x8d\\x95-F\\x08\\x96|\\xb4\\xa6\\xa9\\x18\\xc3\\xba\\x96`Q/\\xe6u'\n",
      "Decrypted Message: Hello, this is plaintext\n"
     ]
    }
   ],
   "source": [
    "def encrypt_message(message, recipient_public_key):\n",
    "    ephemeral_private_key = ec.generate_private_key(ec.SECP256R1(), default_backend())\n",
    "    ephemeral_public_key = ephemeral_private_key.public_key()\n",
    "\n",
    "    shared_secret = ephemeral_private_key.exchange(ec.ECDH(), recipient_public_key)\n",
    "\n",
    "    derived_key_material = HKDF(\n",
    "        algorithm=hashes.SHA256(),\n",
    "        length=32 + 12,\n",
    "        salt=None,\n",
    "        info=b'',\n",
    "    ).derive(shared_secret)\n",
    "\n",
    "    encryption_key = derived_key_material[:32]\n",
    "    nonce = derived_key_material[32:]\n",
    "\n",
    "    cipher = AESGCM(encryption_key)\n",
    "    ciphertext = cipher.encrypt(nonce, message.encode(), None)\n",
    "\n",
    "    return ephemeral_public_key, ciphertext\n",
    "\n",
    "\n",
    "def decrypt_message(ciphertext, ephemeral_public_key, recipient_private_key):\n",
    "    shared_secret = recipient_private_key.exchange(ec.ECDH(), ephemeral_public_key)\n",
    "\n",
    "    derived_key_material = HKDF(\n",
    "        algorithm=hashes.SHA256(),\n",
    "        length=32 + 12,\n",
    "        salt=None,\n",
    "        info=b'',\n",
    "    ).derive(shared_secret)\n",
    "\n",
    "    encryption_key = derived_key_material[:32]\n",
    "    nonce = derived_key_material[32:]\n",
    "\n",
    "    cipher = AESGCM(encryption_key)\n",
    "    decrypted_message = cipher.decrypt(nonce, ciphertext, None)\n",
    "\n",
    "    return decrypted_message.decode()\n",
    "\n",
    "\n",
    "recipient_private_key = ec.generate_private_key(ec.SECP256R1(), default_backend())\n",
    "recipient_public_key = recipient_private_key.public_key()\n",
    "\n",
    "message_to_encrypt = \"Hello, this is plaintext\"\n",
    "\n",
    "ephemeral_public_key, ciphertext = encrypt_message(message_to_encrypt, recipient_public_key)\n",
    "\n",
    "print(\"Ciphertext:\", ciphertext)\n",
    "\n",
    "decrypted_message = decrypt_message(ciphertext, ephemeral_public_key, recipient_private_key)\n",
    "print(\"Decrypted Message:\", decrypted_message)"
   ],
   "metadata": {
    "collapsed": false,
    "ExecuteTime": {
     "end_time": "2024-01-10T12:22:31.687892Z",
     "start_time": "2024-01-10T12:22:31.670373Z"
    }
   },
   "id": "46b937130a47da21"
  },
  {
   "cell_type": "code",
   "execution_count": 3,
   "outputs": [
    {
     "name": "stdout",
     "output_type": "stream",
     "text": [
      "500/500 [==============================] - 19s 38ms/step - loss: 1.5515 - accuracy: 0.4547\n"
     ]
    }
   ],
   "source": [
    "(x_train, y_train), (x_test, y_test) = tf.keras.datasets.cifar10.load_data()\n",
    "\n",
    "x_train = x_train.astype('float32') / 255.0\n",
    "x_test = x_test.astype('float32') / 255.0\n",
    "\n",
    "y_train = tf.keras.utils.to_categorical(y_train, 10)\n",
    "y_test = tf.keras.utils.to_categorical(y_test, 10)\n",
    "\n",
    "model = tf.keras.models.Sequential()\n",
    "model.add(tf.keras.layers.Conv2D(64, (3, 3), input_shape=(32, 32, 3), activation='relu', padding='same'))\n",
    "model.add(tf.keras.layers.Flatten())\n",
    "model.add(tf.keras.layers.Dense(128, activation='relu'))\n",
    "model.add(tf.keras.layers.Dense(10, activation='softmax'))\n",
    "    \n",
    "model.compile(\n",
    "    optimizer=tf.keras.optimizers.legacy.Adam(learning_rate=0.001),\n",
    "    loss='categorical_crossentropy',\n",
    "    metrics=['accuracy']\n",
    ")\n",
    "\n",
    "history = model.fit(x_train, y_train, epochs=1, batch_size=100, verbose=True)"
   ],
   "metadata": {
    "collapsed": false,
    "ExecuteTime": {
     "end_time": "2024-01-10T12:22:54.524527Z",
     "start_time": "2024-01-10T12:22:33.809200Z"
    }
   },
   "id": "1d2aa128291fa20e"
  },
  {
   "cell_type": "code",
   "execution_count": 4,
   "outputs": [
    {
     "data": {
      "text/plain": "[array([[[[-0.01868659, -0.08308603,  0.081273  , ...,  0.03910923,\n            0.03612777, -0.02584949],\n          [-0.09737134, -0.03731577,  0.06801926, ..., -0.06746468,\n           -0.00820698,  0.05326793],\n          [-0.10318844,  0.02004632, -0.06424574, ...,  0.00625479,\n            0.06883508, -0.0566862 ]],\n \n         [[ 0.03743148,  0.00981992, -0.07096642, ...,  0.05617143,\n            0.04573725, -0.0659036 ],\n          [-0.03600867, -0.02050634, -0.01486173, ..., -0.02940397,\n            0.07613274, -0.06800471],\n          [ 0.06618463,  0.10030586, -0.01161971, ..., -0.101343  ,\n            0.03827767, -0.09854859]],\n \n         [[ 0.00804617, -0.02471794,  0.0777742 , ...,  0.00927019,\n            0.01327641, -0.05184361],\n          [-0.0569957 , -0.08420473, -0.04522552, ..., -0.03502046,\n            0.0955784 , -0.05499602],\n          [-0.03451813,  0.1155711 , -0.00343428, ...,  0.01837792,\n            0.07573859, -0.07944628]]],\n \n \n        [[[ 0.07263716, -0.09194718,  0.01143463, ...,  0.06497357,\n            0.03697203,  0.06657949],\n          [-0.05589603,  0.05339782, -0.02196923, ...,  0.00410213,\n           -0.10093308, -0.01145166],\n          [ 0.03458375,  0.04269667,  0.07811876, ..., -0.06864128,\n            0.04936739,  0.05080795]],\n \n         [[-0.0341768 , -0.05716784, -0.03633747, ...,  0.02880973,\n           -0.01984404,  0.04093109],\n          [-0.09225633,  0.01805116, -0.06447393, ..., -0.11124632,\n           -0.03552458, -0.04437177],\n          [-0.06354827,  0.04898035, -0.06268194, ...,  0.00191856,\n           -0.01729908,  0.06773981]],\n \n         [[ 0.08135852, -0.1020037 , -0.07473853, ...,  0.02134115,\n            0.04817537,  0.06588177],\n          [ 0.02687898,  0.05277922, -0.04485712, ..., -0.04733914,\n           -0.09147558, -0.01945843],\n          [-0.05538684,  0.10587673, -0.03927682, ..., -0.10859193,\n           -0.07807264,  0.06151582]]],\n \n \n        [[[-0.08041583, -0.03951457,  0.07102092, ...,  0.03400083,\n           -0.06902458, -0.0722441 ],\n          [-0.09829008, -0.04539524, -0.06193491, ...,  0.06906619,\n            0.01870005, -0.10285559],\n          [ 0.08342712,  0.0257946 ,  0.04057245, ...,  0.0714446 ,\n           -0.05220176,  0.01609368]],\n \n         [[ 0.05511717,  0.02495748,  0.05874944, ...,  0.02086431,\n           -0.11449805,  0.02318588],\n          [ 0.06184755,  0.04171686,  0.07902412, ...,  0.08027007,\n            0.06033041,  0.01044928],\n          [-0.08092407,  0.10556421,  0.03073578, ...,  0.01914821,\n           -0.03969287,  0.00101684]],\n \n         [[ 0.07765119, -0.04051143,  0.07279672, ..., -0.02191972,\n           -0.10388424,  0.02913404],\n          [ 0.08715742, -0.02552479, -0.01215712, ..., -0.11736079,\n            0.06222228,  0.0002014 ],\n          [ 0.05707936,  0.02050111, -0.02793538, ...,  0.07828772,\n           -0.06786495, -0.10529431]]]], dtype=float32),\n array([ 0.00781096, -0.01289689, -0.01773877, -0.01221849, -0.00998945,\n        -0.0071268 ,  0.03754465, -0.00722118,  0.02652627, -0.01070982,\n         0.02130281, -0.00864472, -0.03766314,  0.02575438,  0.00096881,\n        -0.01421617, -0.00869412,  0.02717121, -0.01695768,  0.00252661,\n        -0.01259285,  0.03280044, -0.01764872,  0.07433809, -0.00284814,\n        -0.01523116, -0.00358772, -0.01601372, -0.01979099, -0.00181471,\n         0.00952009, -0.01249258, -0.01297275, -0.01086622, -0.00099192,\n         0.00225709, -0.00774091, -0.00173401,  0.01885384, -0.00714436,\n        -0.01965829,  0.0297663 ,  0.02283586,  0.00688216,  0.00933949,\n        -0.03776408, -0.02114918,  0.02716621,  0.00833755, -0.00155719,\n         0.02833485, -0.00140482,  0.03047635, -0.00839196, -0.03856201,\n         0.00410491, -0.00561488,  0.10625431, -0.00485312, -0.00505941,\n        -0.01096284, -0.00257782, -0.00065225, -0.01924554], dtype=float32),\n array([[-0.00214908, -0.00690949, -0.0088323 , ..., -0.00475984,\n         -0.00066658,  0.00102232],\n        [ 0.00600549,  0.00072974, -0.00962536, ..., -0.00897499,\n         -0.01185276, -0.00586559],\n        [-0.00720361, -0.00347331, -0.01407303, ..., -0.00351709,\n         -0.00050794,  0.00123602],\n        ...,\n        [ 0.00291183,  0.00631952, -0.01527152, ...,  0.00534549,\n         -0.00388087, -0.0004155 ],\n        [-0.00397544, -0.01264677, -0.00948678, ..., -0.00780716,\n         -0.00183401, -0.0136276 ],\n        [-0.00702335, -0.0127221 , -0.00335534, ...,  0.0013224 ,\n         -0.01506615,  0.00366591]], dtype=float32),\n array([-0.0051776 , -0.00600496, -0.00600247, -0.00510866, -0.0046595 ,\n         0.03864963, -0.00599321, -0.00234593, -0.00798962, -0.00519508,\n        -0.01212055, -0.00600161, -0.00600385, -0.00599305, -0.00660668,\n        -0.00905158, -0.00743598, -0.0060032 , -0.00599039, -0.00597608,\n        -0.00531896,  0.00314502, -0.00599139, -0.00254152, -0.00430305,\n        -0.0060047 , -0.00507676, -0.00174499, -0.00837522, -0.00599671,\n        -0.02310733, -0.00240231, -0.00600496,  0.01964975, -0.00600385,\n        -0.00600461, -0.00600466, -0.0049559 , -0.00600436, -0.00543897,\n        -0.00600273,  0.02178949,  0.00269392, -0.00414339, -0.00339392,\n        -0.00600323,  0.01029078, -0.00910437, -0.00600202, -0.00540502,\n        -0.0051758 , -0.00505326, -0.00102888, -0.00522173, -0.00801536,\n        -0.00479678, -0.00405868, -0.0054149 , -0.00241898, -0.0010533 ,\n        -0.00599553, -0.00442033, -0.00600436, -0.00600442, -0.00619382,\n        -0.00595465, -0.0060032 , -0.00600316, -0.00259649,  0.00819654,\n        -0.00507223, -0.00478504, -0.00661919, -0.00820422,  0.00700431,\n        -0.00600428, -0.00600126, -0.00675708, -0.00519665, -0.00278937,\n        -0.0060032 , -0.00519715, -0.0060045 , -0.00220912, -0.0059966 ,\n        -0.00600452, -0.0060029 , -0.00600407,  0.01389678, -0.00556292,\n        -0.00600249, -0.0060049 , -0.00464485, -0.00353885, -0.00600478,\n         0.0395772 , -0.0071218 ,  0.04218785, -0.00683833, -0.00600029,\n        -0.00439218, -0.00921957, -0.00599901,  0.00386651, -0.00676834,\n        -0.00600418, -0.00534115, -0.00513637, -0.00533451, -0.0101433 ,\n        -0.00532239, -0.00599832, -0.00600478, -0.00403541, -0.00599865,\n        -0.00599237, -0.00606216,  0.01309721, -0.00623676, -0.0051053 ,\n        -0.00597456, -0.009682  ,  0.01411231, -0.00600327,  0.00353278,\n        -0.00440408, -0.01401154, -0.00507959], dtype=float32),\n array([[ 0.15130505, -0.14207406, -0.06689549, ...,  0.08300474,\n         -0.07501996,  0.1647243 ],\n        [ 0.03416842, -0.18725862,  0.13754092, ..., -0.07989061,\n         -0.1004627 , -0.17784207],\n        [-0.21325232,  0.16070968,  0.07744741, ...,  0.16066547,\n         -0.1599786 , -0.15957877],\n        ...,\n        [-0.19039045,  0.16139692,  0.00149762, ...,  0.02384586,\n          0.12282555,  0.11913285],\n        [-0.0316827 ,  0.05979121,  0.04600967, ...,  0.1218836 ,\n          0.04376995, -0.14354926],\n        [-0.03632779,  0.08227847, -0.03737592, ..., -0.03171441,\n         -0.01885613, -0.09375926]], dtype=float32),\n array([-0.0344233 , -0.01860168,  0.0375024 , -0.00170474,  0.02229349,\n         0.00146972,  0.00483302, -0.00793133,  0.00628952, -0.01957762],\n       dtype=float32)]"
     },
     "execution_count": 4,
     "metadata": {},
     "output_type": "execute_result"
    }
   ],
   "source": [
    "model.get_weights()"
   ],
   "metadata": {
    "collapsed": false,
    "ExecuteTime": {
     "end_time": "2024-01-10T12:22:54.543642Z",
     "start_time": "2024-01-10T12:22:54.528504Z"
    }
   },
   "id": "4b4a892ab4b017a1"
  },
  {
   "cell_type": "code",
   "execution_count": 5,
   "outputs": [],
   "source": [
    "json_str = json.dumps(model.get_weights(), cls=NumpyEncoder)\n",
    "\n",
    "private_key = get_private_key(1, 'elliptical')\n",
    "public_key = get_public_key(1, 'elliptical')\n",
    "\n",
    "ephemeral_public_key, ciphertext = encrypt_message(json_str, public_key)"
   ],
   "metadata": {
    "collapsed": false,
    "ExecuteTime": {
     "end_time": "2024-01-10T12:23:06.129920Z",
     "start_time": "2024-01-10T12:23:01.511965Z"
    }
   },
   "id": "9939794e5f4d26ce"
  },
  {
   "cell_type": "code",
   "execution_count": 6,
   "outputs": [],
   "source": [
    "decrypted_message = decrypt_message(ciphertext, ephemeral_public_key, private_key)"
   ],
   "metadata": {
    "collapsed": false,
    "ExecuteTime": {
     "end_time": "2024-01-10T12:23:11.498256Z",
     "start_time": "2024-01-10T12:23:11.115705Z"
    }
   },
   "id": "64174f22e0870d77"
  },
  {
   "cell_type": "code",
   "execution_count": 7,
   "outputs": [],
   "source": [
    "decrypted_weights = json.loads(decrypted_message, cls=NumpyDecoder)"
   ],
   "metadata": {
    "collapsed": false,
    "ExecuteTime": {
     "end_time": "2024-01-10T12:23:15.180311Z",
     "start_time": "2024-01-10T12:23:15.178907Z"
    }
   },
   "id": "e8eb5bb6691eb0d7"
  },
  {
   "cell_type": "code",
   "execution_count": 31,
   "outputs": [],
   "source": [
    "def get_model():\n",
    "    model = tf.keras.models.Sequential()\n",
    "    model.add(tf.keras.layers.Conv2D(64, (3, 3), input_shape=(32, 32, 3), activation='relu', padding='same'))\n",
    "    model.add(tf.keras.layers.Flatten())\n",
    "    model.add(tf.keras.layers.Dense(128, activation='relu'))\n",
    "    model.add(tf.keras.layers.Dense(10, activation='softmax'))\n",
    "    return model\n",
    "\n",
    "\n",
    "@tf.function\n",
    "def get_logits(model, x):\n",
    "    return model(x)\n",
    "\n",
    "\n",
    "@tf.function\n",
    "def loss_fn(logits, y):\n",
    "    return K.categorical_crossentropy(y, logits)\n",
    "\n",
    "\n",
    "def random_weight_selection(weights, fraction=0.25):\n",
    "    percentage = max(0, min(100, fraction))\n",
    "    flattened_weights = weights.flatten()\n",
    "    num_elements = int(np.ceil(percentage * flattened_weights.size))\n",
    "    indexes = np.random.choice(flattened_weights.size, size=num_elements, replace=False)\n",
    "    original_indices = np.unravel_index(indexes, weights.shape)\n",
    "    indices = [arr.tolist() for arr in original_indices]\n",
    "    return indices\n",
    "\n",
    "\n",
    "def select_percentage_largest_elements(array, percentage=0.25):\n",
    "    percentage = max(0, min(100, percentage))\n",
    "    num_elements = int(np.ceil(percentage / 100 * array.size))\n",
    "    indices_of_largest = np.argpartition(array.flatten(), -num_elements)[-num_elements:]\n",
    "    original_indices = np.unravel_index(indices_of_largest, array.shape)\n",
    "    indices = [arr.tolist() for arr in original_indices]\n",
    "    return indices\n",
    "\n",
    "\n",
    "def compute_hessian_diagonal(model, weights, x, y):\n",
    "    with tf.GradientTape(persistent=True) as tape:\n",
    "        logits = model(x)\n",
    "        loss = loss_fn(logits, y)\n",
    "\n",
    "        grads = tape.gradient(loss, weights)\n",
    "        hessians = []\n",
    "\n",
    "        for w, grad in zip(weights, grads):\n",
    "            hess = tape.gradient(grad, w)\n",
    "            hessians.append(hess.numpy())\n",
    "\n",
    "        return hessians\n",
    "\n",
    "\n",
    "def apply_regularization(original_weights, penalty_strength, regularization_type):\n",
    "    if regularization_type == 'l1':\n",
    "        # regularized_weights = penalty_strength * np.sum(np.abs(original_weights))\n",
    "        regularized_weights = K.eval(K.sign(original_weights) * K.maximum(K.abs(original_weights) - penalty_strength, 0.))\n",
    "        \n",
    "    elif regularization_type == 'l2':\n",
    "        # The factor of 0.5 is included for mathematical convenience when calculating the derivative of the regularization term. When you take the derivative of the L2 regularization term with respect to the weights during the backpropagation process, the factor of 0.5 simplifies the expression and cancels out when finding the gradient.\n",
    "        regularized_weights = 0.5 * penalty_strength * np.sum(original_weights**2)\n",
    "        # regularized_weights = original_weights - penalty_strength * K.square(original_weights)\n",
    "    else:\n",
    "        raise ValueError(\"Invalid regularization type. Use 'l1' or 'l2'.\")\n",
    "\n",
    "    return regularized_weights\n",
    "\n",
    "\n",
    "def find_differing_indices(arr1, arr2, threshold_percentage):\n",
    "    absolute_difference = np.abs(arr1 - arr2)\n",
    "\n",
    "    threshold = threshold_percentage / 100.0 * np.maximum(np.abs(arr1), np.abs(arr2))\n",
    "\n",
    "    differing_indices = np.where(absolute_difference > threshold)\n",
    "\n",
    "    return differing_indices"
   ],
   "metadata": {
    "collapsed": false,
    "ExecuteTime": {
     "start_time": "2023-12-09T05:13:15.979669Z"
    }
   },
   "id": "29ebbf1604008e33"
  },
  {
   "cell_type": "code",
   "execution_count": 6,
   "outputs": [],
   "source": [
    "indexes = {}\n",
    "for layer in model.layers:\n",
    "    if layer.trainable_weights:\n",
    "        kernel_indices = select_percentage_largest_elements(layer.get_weights()[0], 0.25)\n",
    "        bias_indices = select_percentage_largest_elements(layer.get_weights()[1], 0.25)\n",
    "        indexes[layer.name] = [kernel_indices, bias_indices]"
   ],
   "metadata": {
    "collapsed": false,
    "ExecuteTime": {
     "end_time": "2023-12-09T05:01:02.788443Z",
     "start_time": "2023-12-09T05:01:02.672502Z"
    }
   },
   "id": "9d616dec30fc079e"
  },
  {
   "cell_type": "code",
   "execution_count": 7,
   "outputs": [],
   "source": [
    "for layer in model.layers:\n",
    "    if layer.trainable_weights:\n",
    "        selected_kernel_index = tuple(np.array(li) for li in indexes[layer.name][0])\n",
    "        selected_bias_index = tuple(np.array(li) for li in indexes[layer.name][1])\n",
    "\n",
    "        selected_kernels = layer.get_weights()[0][selected_kernel_index]\n",
    "        selected_bias = layer.get_weights()[1][selected_bias_index]"
   ],
   "metadata": {
    "collapsed": false,
    "ExecuteTime": {
     "end_time": "2023-12-09T05:01:02.804870Z",
     "start_time": "2023-12-09T05:01:02.791182Z"
    }
   },
   "id": "68f10b98fa57fd4e"
  },
  {
   "cell_type": "markdown",
   "source": [
    "apply either l1 or l2 on the weights. Identify the weights which changed by a certain percentage. Use their absolute values to compare. if a weight is drastically reduced after the application of L2 regularization, it suggests that the corresponding feature or parameter had a relatively large impact on the model during training. "
   ],
   "metadata": {
    "collapsed": false
   },
   "id": "5244c13fd1d22b8a"
  },
  {
   "cell_type": "code",
   "execution_count": 43,
   "outputs": [
    {
     "ename": "TypeError",
     "evalue": "can't multiply sequence by non-int of type 'float'",
     "output_type": "error",
     "traceback": [
      "\u001B[0;31m---------------------------------------------------------------------------\u001B[0m",
      "\u001B[0;31mTypeError\u001B[0m                                 Traceback (most recent call last)",
      "Cell \u001B[0;32mIn[43], line 41\u001B[0m\n\u001B[1;32m     38\u001B[0m strength \u001B[38;5;241m=\u001B[39m \u001B[38;5;241m0.01\u001B[39m\n\u001B[1;32m     40\u001B[0m regularization_term \u001B[38;5;241m=\u001B[39m apply_regularization(weights_matrix, strength, \u001B[38;5;124m'\u001B[39m\u001B[38;5;124ml2\u001B[39m\u001B[38;5;124m'\u001B[39m)\n\u001B[0;32m---> 41\u001B[0m regularized_weights \u001B[38;5;241m=\u001B[39m weights \u001B[38;5;241m-\u001B[39m \u001B[38;5;28;43mfloat\u001B[39;49m\u001B[43m(\u001B[49m\u001B[43mregularization_term\u001B[49m\u001B[43m)\u001B[49m\u001B[43m \u001B[49m\u001B[38;5;241;43m*\u001B[39;49m\u001B[43m \u001B[49m\u001B[43mweights\u001B[49m\n\u001B[1;32m     42\u001B[0m regularization_term\n",
      "\u001B[0;31mTypeError\u001B[0m: can't multiply sequence by non-int of type 'float'"
     ]
    }
   ],
   "source": [
    "from tensorflow.python.keras import regularizers\n",
    "\n",
    "# weights = model.trainable_weights\n",
    "# \n",
    "# sensitivity = compute_hessian_diagonal(model, weights, x_train[:1000], y_train[:1000])\n",
    "# print(sensitivity)\n",
    "# \n",
    "# \n",
    "# l2_test_weights = model.layers[0].get_weights()\n",
    "# \n",
    "# # Extract the original weights and biases\n",
    "# original_weights = l2_test_weights[0]  # Assuming the weights are the first element\n",
    "# original_biases = l2_test_weights[1]  # Assuming the biases are the second element\n",
    "# \n",
    "# l1_penalty = 0.01\n",
    "# l2_penalty = 0.01\n",
    "# \n",
    "# l1_regularized_weights = K.eval(K.sign(original_weights) * K.maximum(K.abs(original_weights) - l1_penalty, 0.))\n",
    "# l2_regularized_weights = original_weights * (1. - l2_penalty)\n",
    "# \n",
    "# \n",
    "# \n",
    "# \n",
    "# \n",
    "# # Difference Example usage\n",
    "# array1 = np.array([1.0, 2.0, 3.0, 4.0])\n",
    "# array2 = np.array([1.1, 2.2, 2.9, 4.1])\n",
    "# \n",
    "# threshold_percentage = 5.0  # You can adjust this threshold as needed\n",
    "# \n",
    "# differing_indices = find_differing_indices(array1, array2, threshold_percentage)\n",
    "# \n",
    "# print(\"Differing indices:\", differing_indices)\n",
    "\n",
    "\n",
    "weights = model.layers[0].get_weights()\n",
    "weights_matrix, bias_vector = weights[0], weights[1]\n",
    "strength = 0.01\n",
    "\n",
    "regularization_term = apply_regularization(weights_matrix, strength, 'l2')\n",
    "regularized_weights = weights - float(regularization_term) * weights\n",
    "regularization_term"
   ],
   "metadata": {
    "collapsed": false,
    "ExecuteTime": {
     "end_time": "2023-12-09T05:16:10.712485Z",
     "start_time": "2023-12-09T05:16:10.661863Z"
    }
   },
   "id": "38829f5e22cbafa8"
  },
  {
   "cell_type": "code",
   "execution_count": 5,
   "outputs": [
    {
     "name": "stdout",
     "output_type": "stream",
     "text": [
      "Original Secret: 42\n",
      "Shares: [6, 29, 32, 93, 95]\n",
      "Random Values: [65, 88, 91, 51, 53]\n",
      "Subset of Shares: [6, 29, 32]\n",
      "Reconstructed Secret: 67\n"
     ]
    }
   ],
   "source": [
    "import random\n",
    "\n",
    "def generate_shares(secret, num_participants, prime):\n",
    "    # Generate random values for each participant\n",
    "    random_values = [random.randint(1, prime - 1) for _ in range(num_participants)]\n",
    "    \n",
    "    # Calculate shares using additive secret sharing\n",
    "    shares = [(secret + random_value) % prime for random_value in random_values]\n",
    "    \n",
    "    return shares, random_values\n",
    "\n",
    "def reconstruct_secret(shares, prime):\n",
    "    # Reconstruct the secret by summing up the shares\n",
    "    reconstructed_secret = sum(shares) % prime\n",
    "    return reconstructed_secret\n",
    "\n",
    "\n",
    "# Parameters\n",
    "secret = 42  # The secret value to be shared\n",
    "num_participants = 5  # Number of participants\n",
    "prime = 101  # A prime number defining the finite field\n",
    "\n",
    "# Generate shares\n",
    "shares, random_values = generate_shares(secret, num_participants, prime)\n",
    "\n",
    "# Simulate a subset of participants sharing their shares\n",
    "subset_size = 3\n",
    "subset_shares = shares[:subset_size]\n",
    "\n",
    "# Reconstruct the secret using the subset of shares\n",
    "reconstructed_secret = reconstruct_secret(subset_shares, prime)\n",
    "\n",
    "# Display the results\n",
    "print(f\"Original Secret: {secret}\")\n",
    "print(f\"Shares: {shares}\")\n",
    "print(f\"Random Values: {random_values}\")\n",
    "print(f\"Subset of Shares: {subset_shares}\")\n",
    "print(f\"Reconstructed Secret: {reconstructed_secret}\")"
   ],
   "metadata": {
    "collapsed": false,
    "ExecuteTime": {
     "end_time": "2023-12-13T15:48:19.198032Z",
     "start_time": "2023-12-13T15:48:19.189407Z"
    }
   },
   "id": "d13e26518f85ae87"
  },
  {
   "cell_type": "code",
   "execution_count": null,
   "outputs": [],
   "source": [],
   "metadata": {
    "collapsed": false
   },
   "id": "2b8ff312f78a204"
  }
 ],
 "metadata": {
  "kernelspec": {
   "display_name": "Python 3",
   "language": "python",
   "name": "python3"
  },
  "language_info": {
   "codemirror_mode": {
    "name": "ipython",
    "version": 2
   },
   "file_extension": ".py",
   "mimetype": "text/x-python",
   "name": "python",
   "nbconvert_exporter": "python",
   "pygments_lexer": "ipython2",
   "version": "2.7.6"
  }
 },
 "nbformat": 4,
 "nbformat_minor": 5
}
