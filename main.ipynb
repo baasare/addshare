{
 "cells": [
  {
   "cell_type": "code",
   "execution_count": 33,
   "id": "initial_id",
   "metadata": {
    "collapsed": true,
    "ExecuteTime": {
     "end_time": "2023-12-01T18:52:53.413500Z",
     "start_time": "2023-12-01T18:52:53.281981Z"
    }
   },
   "outputs": [
    {
     "ename": "ImportError",
     "evalue": "dlopen(/Users/atiemoasare/Projects/thesis/venv/lib/python3.8/site-packages/tensorflow/python/platform/_pywrap_cpu_feature_guard.so, 0x0002): Library not loaded: @rpath/libtensorflow_cc.2.dylib\n  Referenced from: <A8C24B75-9F46-3078-83B4-DA46F5E64516> /Users/atiemoasare/Projects/thesis/venv/lib/python3.8/site-packages/tensorflow/python/_pywrap_tensorflow_internal.so\n  Reason: tried: '/Users/atiemoasare/Projects/thesis/venv/lib/python3.8/site-packages/tensorflow/python/../../_solib_darwin_arm64/libtensorflow_cc.2.dylib' (no such file), '/Users/atiemoasare/Projects/thesis/venv/lib/python3.8/site-packages/tensorflow/python/../../_solib_darwin_arm64/_U_S_Stensorflow_Spython_C_Upywrap_Utensorflow_Uinternal.so_Ucclib___Utensorflow/libtensorflow_cc.2.dylib' (no such file), '/Users/atiemoasare/Projects/thesis/venv/lib/python3.8/site-packages/tensorflow/python/libtensorflow_cc.2.dylib' (no such file), '/Users/atiemoasare/Projects/thesis/venv/lib/python3.8/site-packages/tensorflow/python/../libtensorflow_cc.2.dylib' (no such file), '/Users/atiemoasare/Projects/thesis/venv/lib/python3.8/site-packages/tensorflow/python/platform/../../../_solib_darwin_arm64/_U_S_Stensorflow_Clibtensorflow_Uframework_Uimport_Ulib___Utensorflow/libtensorflow_cc.2.dylib' (no such file), '/Users/atiemoasare/Projects/thesis/venv/lib/python3.8/site-packages/tensorflow/python/platform/../../../_solib_darwin_arm64/_U_S_Stensorflow_Spython_C_Upywrap_Utensorflow_Uinternal_Umacos___Utensorflow_Spython/libtensorflow_cc.2.dylib' (no such file), '/Users/atiemoasare/Projects/thesis/venv/lib/python3.8/site-packages/tensorflow/python/platform/libtensorflow_cc.2.dylib' (no such file), '/Users/atiemoasare/Projects/thesis/venv/lib/python3.8/site-packages/tensorflow/python/platform/../libtensorflow_cc.2.dylib' (no such file), '/Users/atiemoasare/Projects/thesis/venv/lib/python3.8/site-packages/tensorflow/python/platform/../../libtensorflow_cc.2.dylib' (no such file), '/Users/atiemoasare/Projects/thesis/venv/lib/python3.8/site-packages/tensorflow/python/platform/../../../_solib_darwin_arm64/_U_S_Stensorflow_Clibtensorflow_Uframework_Uimport_Ulib___Utensorflow/libtensorflow_cc.2.dylib' (no such file), '/Users/atiemoasare/Projects/thesis/venv/lib/python3.8/site-packages/tensorflow/python/platform/../../../_solib_darwin_arm64/_U_S_Stensorflow_Spython_C_Upywrap_Utensorflow_Uinternal_Umacos___Utensorflow_Spython/libtensorflow_cc.2.dylib' (no such file), '/Users/atiemoasare/Projects/thesis/venv/lib/python3.8/site-packages/tensorflow/python/platform/libtensorflow_cc.2.dylib' (no such file), '/Users/atiemoasare/Projects/thesis/venv/lib/python3.8/site-packages/tensorflow/python/platform/../libtensorflow_cc.2.dylib' (no such file), '/Users/atiemoasare/Projects/thesis/venv/lib/python3.8/site-packages/tensorflow/python/platform/../../libtensorflow_cc.2.dylib' (no such file), '/usr/local/lib/libtensorflow_cc.2.dylib' (no such file), '/usr/lib/libtensorflow_cc.2.dylib' (no such file, not in dyld cache)",
     "output_type": "error",
     "traceback": [
      "\u001B[0;31m---------------------------------------------------------------------------\u001B[0m",
      "\u001B[0;31mImportError\u001B[0m                               Traceback (most recent call last)",
      "Cell \u001B[0;32mIn[33], line 2\u001B[0m\n\u001B[1;32m      1\u001B[0m \u001B[38;5;28;01mimport\u001B[39;00m \u001B[38;5;21;01mnumpy\u001B[39;00m \u001B[38;5;28;01mas\u001B[39;00m \u001B[38;5;21;01mnp\u001B[39;00m\n\u001B[0;32m----> 2\u001B[0m \u001B[38;5;28;01mimport\u001B[39;00m \u001B[38;5;21;01mtensorflow\u001B[39;00m \u001B[38;5;28;01mas\u001B[39;00m \u001B[38;5;21;01mtf\u001B[39;00m\n\u001B[1;32m      3\u001B[0m \u001B[38;5;28;01mfrom\u001B[39;00m \u001B[38;5;21;01mcryptography\u001B[39;00m\u001B[38;5;21;01m.\u001B[39;00m\u001B[38;5;21;01mhazmat\u001B[39;00m\u001B[38;5;21;01m.\u001B[39;00m\u001B[38;5;21;01mbackends\u001B[39;00m \u001B[38;5;28;01mimport\u001B[39;00m default_backend\n\u001B[1;32m      4\u001B[0m \u001B[38;5;28;01mfrom\u001B[39;00m \u001B[38;5;21;01mcryptography\u001B[39;00m\u001B[38;5;21;01m.\u001B[39;00m\u001B[38;5;21;01mhazmat\u001B[39;00m\u001B[38;5;21;01m.\u001B[39;00m\u001B[38;5;21;01mprimitives\u001B[39;00m \u001B[38;5;28;01mimport\u001B[39;00m serialization, hashes\n",
      "File \u001B[0;32m~/Projects/thesis/venv/lib/python3.8/site-packages/tensorflow/__init__.py:38\u001B[0m\n\u001B[1;32m     35\u001B[0m \u001B[38;5;28;01mimport\u001B[39;00m \u001B[38;5;21;01msys\u001B[39;00m \u001B[38;5;28;01mas\u001B[39;00m \u001B[38;5;21;01m_sys\u001B[39;00m\n\u001B[1;32m     36\u001B[0m \u001B[38;5;28;01mimport\u001B[39;00m \u001B[38;5;21;01mtyping\u001B[39;00m \u001B[38;5;28;01mas\u001B[39;00m \u001B[38;5;21;01m_typing\u001B[39;00m\n\u001B[0;32m---> 38\u001B[0m \u001B[38;5;28;01mfrom\u001B[39;00m \u001B[38;5;21;01mtensorflow\u001B[39;00m\u001B[38;5;21;01m.\u001B[39;00m\u001B[38;5;21;01mpython\u001B[39;00m\u001B[38;5;21;01m.\u001B[39;00m\u001B[38;5;21;01mtools\u001B[39;00m \u001B[38;5;28;01mimport\u001B[39;00m module_util \u001B[38;5;28;01mas\u001B[39;00m _module_util\n\u001B[1;32m     39\u001B[0m \u001B[38;5;28;01mfrom\u001B[39;00m \u001B[38;5;21;01mtensorflow\u001B[39;00m\u001B[38;5;21;01m.\u001B[39;00m\u001B[38;5;21;01mpython\u001B[39;00m\u001B[38;5;21;01m.\u001B[39;00m\u001B[38;5;21;01mutil\u001B[39;00m\u001B[38;5;21;01m.\u001B[39;00m\u001B[38;5;21;01mlazy_loader\u001B[39;00m \u001B[38;5;28;01mimport\u001B[39;00m LazyLoader \u001B[38;5;28;01mas\u001B[39;00m _LazyLoader\n\u001B[1;32m     41\u001B[0m \u001B[38;5;66;03m# Make sure code inside the TensorFlow codebase can use tf2.enabled() at import.\u001B[39;00m\n",
      "File \u001B[0;32m~/Projects/thesis/venv/lib/python3.8/site-packages/tensorflow/python/__init__.py:36\u001B[0m\n\u001B[1;32m     27\u001B[0m \u001B[38;5;28;01mimport\u001B[39;00m \u001B[38;5;21;01mtraceback\u001B[39;00m\n\u001B[1;32m     29\u001B[0m \u001B[38;5;66;03m# We aim to keep this file minimal and ideally remove completely.\u001B[39;00m\n\u001B[1;32m     30\u001B[0m \u001B[38;5;66;03m# If you are adding a new file with @tf_export decorators,\u001B[39;00m\n\u001B[1;32m     31\u001B[0m \u001B[38;5;66;03m# import it in modules_with_exports.py instead.\u001B[39;00m\n\u001B[1;32m     32\u001B[0m \n\u001B[1;32m     33\u001B[0m \u001B[38;5;66;03m# go/tf-wildcard-import\u001B[39;00m\n\u001B[1;32m     34\u001B[0m \u001B[38;5;66;03m# pylint: disable=wildcard-import,g-bad-import-order,g-import-not-at-top\u001B[39;00m\n\u001B[0;32m---> 36\u001B[0m \u001B[38;5;28;01mfrom\u001B[39;00m \u001B[38;5;21;01mtensorflow\u001B[39;00m\u001B[38;5;21;01m.\u001B[39;00m\u001B[38;5;21;01mpython\u001B[39;00m \u001B[38;5;28;01mimport\u001B[39;00m pywrap_tensorflow \u001B[38;5;28;01mas\u001B[39;00m _pywrap_tensorflow\n\u001B[1;32m     37\u001B[0m \u001B[38;5;28;01mfrom\u001B[39;00m \u001B[38;5;21;01mtensorflow\u001B[39;00m\u001B[38;5;21;01m.\u001B[39;00m\u001B[38;5;21;01mpython\u001B[39;00m\u001B[38;5;21;01m.\u001B[39;00m\u001B[38;5;21;01meager\u001B[39;00m \u001B[38;5;28;01mimport\u001B[39;00m context\n\u001B[1;32m     39\u001B[0m \u001B[38;5;66;03m# pylint: enable=wildcard-import\u001B[39;00m\n\u001B[1;32m     40\u001B[0m \n\u001B[1;32m     41\u001B[0m \u001B[38;5;66;03m# Bring in subpackages.\u001B[39;00m\n",
      "File \u001B[0;32m~/Projects/thesis/venv/lib/python3.8/site-packages/tensorflow/python/pywrap_tensorflow.py:26\u001B[0m\n\u001B[1;32m     21\u001B[0m \u001B[38;5;28;01mfrom\u001B[39;00m \u001B[38;5;21;01mtensorflow\u001B[39;00m\u001B[38;5;21;01m.\u001B[39;00m\u001B[38;5;21;01mpython\u001B[39;00m\u001B[38;5;21;01m.\u001B[39;00m\u001B[38;5;21;01mplatform\u001B[39;00m \u001B[38;5;28;01mimport\u001B[39;00m self_check\n\u001B[1;32m     23\u001B[0m \u001B[38;5;66;03m# TODO(mdan): Cleanup antipattern: import for side effects.\u001B[39;00m\n\u001B[1;32m     24\u001B[0m \n\u001B[1;32m     25\u001B[0m \u001B[38;5;66;03m# Perform pre-load sanity checks in order to produce a more actionable error.\u001B[39;00m\n\u001B[0;32m---> 26\u001B[0m \u001B[43mself_check\u001B[49m\u001B[38;5;241;43m.\u001B[39;49m\u001B[43mpreload_check\u001B[49m\u001B[43m(\u001B[49m\u001B[43m)\u001B[49m\n\u001B[1;32m     28\u001B[0m \u001B[38;5;66;03m# pylint: disable=wildcard-import,g-import-not-at-top,unused-import,line-too-long\u001B[39;00m\n\u001B[1;32m     30\u001B[0m \u001B[38;5;28;01mtry\u001B[39;00m:\n\u001B[1;32m     31\u001B[0m   \u001B[38;5;66;03m# This import is expected to fail if there is an explicit shared object\u001B[39;00m\n\u001B[1;32m     32\u001B[0m   \u001B[38;5;66;03m# dependency (with_framework_lib=true), since we do not need RTLD_GLOBAL.\u001B[39;00m\n",
      "File \u001B[0;32m~/Projects/thesis/venv/lib/python3.8/site-packages/tensorflow/python/platform/self_check.py:63\u001B[0m, in \u001B[0;36mpreload_check\u001B[0;34m()\u001B[0m\n\u001B[1;32m     50\u001B[0m       \u001B[38;5;28;01mraise\u001B[39;00m \u001B[38;5;167;01mImportError\u001B[39;00m(\n\u001B[1;32m     51\u001B[0m           \u001B[38;5;124m\"\u001B[39m\u001B[38;5;124mCould not find the DLL(s) \u001B[39m\u001B[38;5;132;01m%r\u001B[39;00m\u001B[38;5;124m. TensorFlow requires that these DLLs \u001B[39m\u001B[38;5;124m\"\u001B[39m\n\u001B[1;32m     52\u001B[0m           \u001B[38;5;124m\"\u001B[39m\u001B[38;5;124mbe installed in a directory that is named in your \u001B[39m\u001B[38;5;132;01m%%\u001B[39;00m\u001B[38;5;124mPATH\u001B[39m\u001B[38;5;132;01m%%\u001B[39;00m\u001B[38;5;124m \u001B[39m\u001B[38;5;124m\"\u001B[39m\n\u001B[0;32m   (...)\u001B[0m\n\u001B[1;32m     56\u001B[0m           \u001B[38;5;124m\"\u001B[39m\u001B[38;5;124mhttps://support.microsoft.com/help/2977003/the-latest-supported-visual-c-downloads\u001B[39m\u001B[38;5;124m\"\u001B[39m\n\u001B[1;32m     57\u001B[0m           \u001B[38;5;241m%\u001B[39m \u001B[38;5;124m\"\u001B[39m\u001B[38;5;124m or \u001B[39m\u001B[38;5;124m\"\u001B[39m\u001B[38;5;241m.\u001B[39mjoin(missing))\n\u001B[1;32m     58\u001B[0m \u001B[38;5;28;01melse\u001B[39;00m:\n\u001B[1;32m     59\u001B[0m   \u001B[38;5;66;03m# Load a library that performs CPU feature guard checking.  Doing this here\u001B[39;00m\n\u001B[1;32m     60\u001B[0m   \u001B[38;5;66;03m# as a preload check makes it more likely that we detect any CPU feature\u001B[39;00m\n\u001B[1;32m     61\u001B[0m   \u001B[38;5;66;03m# incompatibilities before we trigger them (which would typically result in\u001B[39;00m\n\u001B[1;32m     62\u001B[0m   \u001B[38;5;66;03m# SIGILL).\u001B[39;00m\n\u001B[0;32m---> 63\u001B[0m   \u001B[38;5;28;01mfrom\u001B[39;00m \u001B[38;5;21;01mtensorflow\u001B[39;00m\u001B[38;5;21;01m.\u001B[39;00m\u001B[38;5;21;01mpython\u001B[39;00m\u001B[38;5;21;01m.\u001B[39;00m\u001B[38;5;21;01mplatform\u001B[39;00m \u001B[38;5;28;01mimport\u001B[39;00m _pywrap_cpu_feature_guard\n\u001B[1;32m     64\u001B[0m   _pywrap_cpu_feature_guard\u001B[38;5;241m.\u001B[39mInfoAboutUnusedCPUFeatures()\n",
      "\u001B[0;31mImportError\u001B[0m: dlopen(/Users/atiemoasare/Projects/thesis/venv/lib/python3.8/site-packages/tensorflow/python/platform/_pywrap_cpu_feature_guard.so, 0x0002): Library not loaded: @rpath/libtensorflow_cc.2.dylib\n  Referenced from: <A8C24B75-9F46-3078-83B4-DA46F5E64516> /Users/atiemoasare/Projects/thesis/venv/lib/python3.8/site-packages/tensorflow/python/_pywrap_tensorflow_internal.so\n  Reason: tried: '/Users/atiemoasare/Projects/thesis/venv/lib/python3.8/site-packages/tensorflow/python/../../_solib_darwin_arm64/libtensorflow_cc.2.dylib' (no such file), '/Users/atiemoasare/Projects/thesis/venv/lib/python3.8/site-packages/tensorflow/python/../../_solib_darwin_arm64/_U_S_Stensorflow_Spython_C_Upywrap_Utensorflow_Uinternal.so_Ucclib___Utensorflow/libtensorflow_cc.2.dylib' (no such file), '/Users/atiemoasare/Projects/thesis/venv/lib/python3.8/site-packages/tensorflow/python/libtensorflow_cc.2.dylib' (no such file), '/Users/atiemoasare/Projects/thesis/venv/lib/python3.8/site-packages/tensorflow/python/../libtensorflow_cc.2.dylib' (no such file), '/Users/atiemoasare/Projects/thesis/venv/lib/python3.8/site-packages/tensorflow/python/platform/../../../_solib_darwin_arm64/_U_S_Stensorflow_Clibtensorflow_Uframework_Uimport_Ulib___Utensorflow/libtensorflow_cc.2.dylib' (no such file), '/Users/atiemoasare/Projects/thesis/venv/lib/python3.8/site-packages/tensorflow/python/platform/../../../_solib_darwin_arm64/_U_S_Stensorflow_Spython_C_Upywrap_Utensorflow_Uinternal_Umacos___Utensorflow_Spython/libtensorflow_cc.2.dylib' (no such file), '/Users/atiemoasare/Projects/thesis/venv/lib/python3.8/site-packages/tensorflow/python/platform/libtensorflow_cc.2.dylib' (no such file), '/Users/atiemoasare/Projects/thesis/venv/lib/python3.8/site-packages/tensorflow/python/platform/../libtensorflow_cc.2.dylib' (no such file), '/Users/atiemoasare/Projects/thesis/venv/lib/python3.8/site-packages/tensorflow/python/platform/../../libtensorflow_cc.2.dylib' (no such file), '/Users/atiemoasare/Projects/thesis/venv/lib/python3.8/site-packages/tensorflow/python/platform/../../../_solib_darwin_arm64/_U_S_Stensorflow_Clibtensorflow_Uframework_Uimport_Ulib___Utensorflow/libtensorflow_cc.2.dylib' (no such file), '/Users/atiemoasare/Projects/thesis/venv/lib/python3.8/site-packages/tensorflow/python/platform/../../../_solib_darwin_arm64/_U_S_Stensorflow_Spython_C_Upywrap_Utensorflow_Uinternal_Umacos___Utensorflow_Spython/libtensorflow_cc.2.dylib' (no such file), '/Users/atiemoasare/Projects/thesis/venv/lib/python3.8/site-packages/tensorflow/python/platform/libtensorflow_cc.2.dylib' (no such file), '/Users/atiemoasare/Projects/thesis/venv/lib/python3.8/site-packages/tensorflow/python/platform/../libtensorflow_cc.2.dylib' (no such file), '/Users/atiemoasare/Projects/thesis/venv/lib/python3.8/site-packages/tensorflow/python/platform/../../libtensorflow_cc.2.dylib' (no such file), '/usr/local/lib/libtensorflow_cc.2.dylib' (no such file), '/usr/lib/libtensorflow_cc.2.dylib' (no such file, not in dyld cache)"
     ]
    }
   ],
   "source": [
    "import numpy as np\n",
    "import tensorflow as tf\n",
    "from cryptography.hazmat.backends import default_backend\n",
    "from cryptography.hazmat.primitives import serialization, hashes\n",
    "from cryptography.hazmat.primitives.asymmetric import ec\n",
    "from cryptography.hazmat.primitives.kdf.hkdf import HKDF\n",
    "from cryptography.hazmat.primitives.ciphers.aead import AESGCM"
   ]
  },
  {
   "cell_type": "code",
   "execution_count": null,
   "outputs": [],
   "source": [
    "def get_model():\n",
    "    model = tf.keras.models.Sequential()\n",
    "    model.add(tf.keras.layers.Conv2D(64, (3, 3), input_shape=(32, 32, 3), activation='relu', padding='same'))\n",
    "    model.add(tf.keras.layers.Flatten())\n",
    "    model.add(tf.keras.layers.Dense(128, activation='relu'))\n",
    "    model.add(tf.keras.layers.Dense(10, activation='softmax'))\n",
    "    return model"
   ],
   "metadata": {
    "collapsed": false
   },
   "id": "e3c3c3f3dde4c2dc"
  },
  {
   "cell_type": "code",
   "execution_count": null,
   "outputs": [],
   "source": [],
   "metadata": {
    "collapsed": false
   },
   "id": "3fceca8fe7211775"
  },
  {
   "cell_type": "code",
   "execution_count": 30,
   "outputs": [
    {
     "name": "stdout",
     "output_type": "stream",
     "text": [
      "Ephemeral Public Key: b'\\x02\\xab\\x08\\xc4W\\x98=}\\xba\\xa9P\\x0fA\\xe6\\x85\\xed\\x16\\xf7J\\xb9\\x8e\\xa1Q[>\\xf4S\\xeb\\x81\\x12\\xfd\\xed\\x8b'\n",
      "Ciphertext: 93b65d4974c28f97d2253fba8abe699fee808e3b828311aa53b4d8327723e81763a27b59d8cf9d2a05\n",
      "Decrypted Message: Hello, how are you doing?\n"
     ]
    }
   ],
   "source": [
    "def encrypt_message(message, recipient_public_key):\n",
    "    # Step 1: Generate ephemeral key pair\n",
    "    ephemeral_private_key = ec.generate_private_key(ec.SECP256R1(), default_backend())\n",
    "    ephemeral_public_key = ephemeral_private_key.public_key()\n",
    "\n",
    "    # Step 2: Derive shared secret\n",
    "    shared_secret = ephemeral_private_key.exchange(ec.ECDH(), recipient_public_key)\n",
    "\n",
    "    # Step 3: Derive encryption key and nonce\n",
    "    derived_key_material = HKDF(\n",
    "        algorithm=hashes.SHA256(),\n",
    "        length=32 + 12,  # AES key length + nonce length\n",
    "        salt=None,\n",
    "        info=b'',\n",
    "    ).derive(shared_secret)\n",
    "\n",
    "    encryption_key = derived_key_material[:32]\n",
    "    nonce = derived_key_material[32:]\n",
    "\n",
    "    # Step 4: Encrypt the message\n",
    "    cipher = AESGCM(encryption_key)\n",
    "    ciphertext = cipher.encrypt(nonce, message.encode(), None)\n",
    "\n",
    "    # Step 5: Return the ephemeral public key and ciphertext\n",
    "    return ephemeral_public_key, ciphertext\n",
    "\n",
    "\n",
    "def decrypt_message(ciphertext, ephemeral_public_key, recipient_private_key):\n",
    "    # Step 1: Derive shared secret using recipient's private key and ephemeral public key\n",
    "    shared_secret = recipient_private_key.exchange(ec.ECDH(), ephemeral_public_key)\n",
    "\n",
    "    # Step 2: Derive encryption key and nonce\n",
    "    derived_key_material = HKDF(\n",
    "        algorithm=hashes.SHA256(),\n",
    "        length=32 + 12,  # AES key length + nonce length\n",
    "        salt=None,\n",
    "        info=b'',\n",
    "    ).derive(shared_secret)\n",
    "\n",
    "    encryption_key = derived_key_material[:32]\n",
    "    nonce = derived_key_material[32:]\n",
    "\n",
    "    # Step 3: Decrypt the ciphertext\n",
    "    cipher = AESGCM(encryption_key)\n",
    "    decrypted_message = cipher.decrypt(nonce, ciphertext, None)\n",
    "\n",
    "    # Step 4: Return the decrypted message\n",
    "    return decrypted_message.decode()\n",
    "\n",
    "\n",
    "recipient_private_key = ec.generate_private_key(ec.SECP256R1(), default_backend())\n",
    "recipient_public_key = recipient_private_key.public_key()\n",
    "\n",
    "\n",
    "message_to_encrypt = \"Hello, how are you doing?\"\n",
    "\n",
    "# recipient_public_key = ec.EllipticCurvePublicKey.from_encoded_point(ec.SECP256R1(), recipient_public_key_bytes)\n",
    "ephemeral_public_key, ciphertext = encrypt_message(message_to_encrypt, recipient_public_key)\n",
    "\n",
    "ephemeral_public_key_bytes = ephemeral_public_key.public_bytes(\n",
    "    encoding=serialization.Encoding.X962,\n",
    "    format=serialization.PublicFormat.CompressedPoint,\n",
    ")\n",
    "ciphertext_hex = ciphertext.hex()\n",
    "\n",
    "print(\"Ephemeral Public Key:\", ephemeral_public_key_bytes)\n",
    "print(\"Ciphertext:\", ciphertext_hex)\n",
    "\n",
    "\n",
    "decrypted_message = decrypt_message(ciphertext, ephemeral_public_key, recipient_private_key)\n",
    "print(\"Decrypted Message:\", decrypted_message)"
   ],
   "metadata": {
    "collapsed": false,
    "ExecuteTime": {
     "end_time": "2023-12-01T18:14:56.050590Z",
     "start_time": "2023-12-01T18:14:55.999036Z"
    }
   },
   "id": "46b937130a47da21"
  },
  {
   "cell_type": "code",
   "execution_count": null,
   "outputs": [],
   "source": [],
   "metadata": {
    "collapsed": false
   },
   "id": "652cb08e5e3b1508"
  }
 ],
 "metadata": {
  "kernelspec": {
   "display_name": "Python 3",
   "language": "python",
   "name": "python3"
  },
  "language_info": {
   "codemirror_mode": {
    "name": "ipython",
    "version": 2
   },
   "file_extension": ".py",
   "mimetype": "text/x-python",
   "name": "python",
   "nbconvert_exporter": "python",
   "pygments_lexer": "ipython2",
   "version": "2.7.6"
  }
 },
 "nbformat": 4,
 "nbformat_minor": 5
}
